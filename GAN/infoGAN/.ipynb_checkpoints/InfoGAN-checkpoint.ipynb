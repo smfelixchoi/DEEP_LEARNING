{
 "cells": [
  {
   "cell_type": "markdown",
   "id": "297e296f",
   "metadata": {},
   "source": [
    "# InfoGAN\n",
    "### Interpretable Representation Learning by Information Maximizing Generative Adversarial Nets\n",
    "\n",
    "#### 작성자: 고려대학교 수학과 석사과정 최선묵\n",
    "\n",
    "[References]  \n",
    "[Paper Link](https://arxiv.org/abs/1606.03657)  \n",
    "[Code Link](https://towardsdatascience.com/build-infogan-from-scratch-f20ee85cba03)\n"
   ]
  },
  {
   "cell_type": "markdown",
   "id": "76463fb3",
   "metadata": {},
   "source": [
    "## Preparation"
   ]
  },
  {
   "cell_type": "code",
   "execution_count": null,
   "id": "a37a07a3",
   "metadata": {},
   "outputs": [],
   "source": [
    "!pip install tensorflow==2.4.0\n",
    "!pip install tensorflow-probability==0.12.2"
   ]
  },
  {
   "cell_type": "code",
   "execution_count": 1,
   "id": "986b184a",
   "metadata": {},
   "outputs": [],
   "source": [
    "import tensorflow as tf\n",
    "import tensorflow_probability as tfp"
   ]
  },
  {
   "cell_type": "code",
   "execution_count": 2,
   "id": "76f995fe",
   "metadata": {},
   "outputs": [],
   "source": [
    "from tensorflow.keras.layers import Input, Dense, Conv2D, Conv2DTranspose\n",
    "from tensorflow.keras.layers import ReLU, LeakyReLU, Reshape\n",
    "from tensorflow.keras.layers import BatchNormalization, Concatenate, Flatten\n",
    "\n",
    "from tensorflow.keras.models import Model\n",
    "\n",
    "from tensorflow.keras.losses import BinaryCrossentropy, CategoricalCrossentropy\n",
    "\n",
    "from tensorflow.keras.optimizers import Adam"
   ]
  },
  {
   "cell_type": "markdown",
   "id": "2a4edd06",
   "metadata": {},
   "source": [
    "### Hyperparameters for latent codes"
   ]
  },
  {
   "cell_type": "code",
   "execution_count": 3,
   "id": "9c69452e",
   "metadata": {},
   "outputs": [],
   "source": [
    "# Noise\n",
    "noise_dim = 62\n",
    "\n",
    "# Categorical codes\n",
    "num_cat = 10\n",
    "\n",
    "# Continuous codes\n",
    "num_conti = 2\n",
    "\n",
    "latent_input_size = noise_dim + num_cat + num_conti"
   ]
  },
  {
   "cell_type": "markdown",
   "id": "ca86f5a3",
   "metadata": {},
   "source": [
    "## Generator"
   ]
  },
  {
   "cell_type": "code",
   "execution_count": 4,
   "id": "5cba7fc2",
   "metadata": {},
   "outputs": [],
   "source": [
    "def create_generator_continuous(n_filters=128, input_size=latent_input_size):\n",
    "    # Build functional API model\n",
    "    # input\n",
    "    input_tensor = Input(shape=(input_size, ))\n",
    "\n",
    "    # Fully-connected layer.\n",
    "    x = Dense(units=1024, use_bias=False, kernel_initializer='he_uniform') (input_tensor)\n",
    "    x = BatchNormalization()(x)\n",
    "    x = ReLU()(x)\n",
    "    \n",
    "    # Fully-connected layer. The output should be able to reshape into 7x7\n",
    "    x = Dense(units=7*7*128, use_bias=False, kernel_initializer='he_uniform') (x)\n",
    "    x = BatchNormalization()(x)\n",
    "    x = ReLU()(x)\n",
    "    \n",
    "    # Reshape\n",
    "    x = Reshape(target_shape=(7, 7, 128))(x)\n",
    "\n",
    "    nf = n_filters\n",
    "    # First transposed convolutional layer\n",
    "\n",
    "    x = Conv2DTranspose(nf, kernel_size=(4, 4), strides=(2, 2), padding='same', \n",
    "                        use_bias=False, kernel_initializer='he_uniform')(x)\n",
    "    x = BatchNormalization()(x)\n",
    "    x = ReLU()(x)\n",
    "\n",
    "    # Number of filters halved after each transposed convolutional layer\n",
    "    nf = nf//2\n",
    "    \n",
    "    # Second transposed convolutional layer\n",
    "    # strides=(2, 2): shape is doubled after the transposed convolution\n",
    "    x = Conv2DTranspose(nf, kernel_size=(4, 4), strides=(2, 2), padding='same', \n",
    "                        use_bias=False, kernel_initializer='he_uniform')(x)\n",
    "    x = BatchNormalization()(x)\n",
    "    x = ReLU()(x)\n",
    "\n",
    "    # Final transposed convolutional layer: output shape: 28x28x1, tanh activation\n",
    "    output = Conv2DTranspose(1, kernel_size=(4, 4), strides=(1, 1), padding=\"same\", \n",
    "                             activation=\"tanh\", kernel_initializer='glorot_uniform')(x)\n",
    "\n",
    "    model = Model(inputs=input_tensor, outputs=output)\n",
    "    \n",
    "    return model"
   ]
  },
  {
   "cell_type": "code",
   "execution_count": 5,
   "id": "73a58c0e",
   "metadata": {},
   "outputs": [],
   "source": [
    "g_model = create_generator_continuous()"
   ]
  },
  {
   "cell_type": "code",
   "execution_count": 6,
   "id": "1556dc0a",
   "metadata": {},
   "outputs": [
    {
     "name": "stdout",
     "output_type": "stream",
     "text": [
      "Model: \"model\"\n",
      "_________________________________________________________________\n",
      "Layer (type)                 Output Shape              Param #   \n",
      "=================================================================\n",
      "input_1 (InputLayer)         [(None, 74)]              0         \n",
      "_________________________________________________________________\n",
      "dense (Dense)                (None, 1024)              75776     \n",
      "_________________________________________________________________\n",
      "batch_normalization (BatchNo (None, 1024)              4096      \n",
      "_________________________________________________________________\n",
      "re_lu (ReLU)                 (None, 1024)              0         \n",
      "_________________________________________________________________\n",
      "dense_1 (Dense)              (None, 6272)              6422528   \n",
      "_________________________________________________________________\n",
      "batch_normalization_1 (Batch (None, 6272)              25088     \n",
      "_________________________________________________________________\n",
      "re_lu_1 (ReLU)               (None, 6272)              0         \n",
      "_________________________________________________________________\n",
      "reshape (Reshape)            (None, 7, 7, 128)         0         \n",
      "_________________________________________________________________\n",
      "conv2d_transpose (Conv2DTran (None, 14, 14, 128)       262144    \n",
      "_________________________________________________________________\n",
      "batch_normalization_2 (Batch (None, 14, 14, 128)       512       \n",
      "_________________________________________________________________\n",
      "re_lu_2 (ReLU)               (None, 14, 14, 128)       0         \n",
      "_________________________________________________________________\n",
      "conv2d_transpose_1 (Conv2DTr (None, 28, 28, 64)        131072    \n",
      "_________________________________________________________________\n",
      "batch_normalization_3 (Batch (None, 28, 28, 64)        256       \n",
      "_________________________________________________________________\n",
      "re_lu_3 (ReLU)               (None, 28, 28, 64)        0         \n",
      "_________________________________________________________________\n",
      "conv2d_transpose_2 (Conv2DTr (None, 28, 28, 1)         1025      \n",
      "=================================================================\n",
      "Total params: 6,922,497\n",
      "Trainable params: 6,907,521\n",
      "Non-trainable params: 14,976\n",
      "_________________________________________________________________\n"
     ]
    }
   ],
   "source": [
    "g_model.summary()"
   ]
  },
  {
   "cell_type": "markdown",
   "id": "cb3b53bc",
   "metadata": {},
   "source": [
    "## Discriminator"
   ]
  },
  {
   "cell_type": "code",
   "execution_count": 7,
   "id": "13af48ce",
   "metadata": {},
   "outputs": [],
   "source": [
    "def create_discriminator_continuous(n_filters=64, n_class=num_cat, n_conti=num_conti, input_shape=(28, 28, 1)):\n",
    "    # Build functional API model\n",
    "    # Image Input\n",
    "    image_input = Input(shape=input_shape)\n",
    "\n",
    "    nf = n_filters\n",
    "    \n",
    "    x = Conv2D(nf, kernel_size=(4, 4), strides=(2, 2), padding=\"same\", use_bias=True)(image_input)\n",
    "    x = BatchNormalization()(x)\n",
    "    x = LeakyReLU(alpha=0.1)(x)\n",
    "\n",
    "    # Number of filters doubled after each convolutional layer\n",
    "    nf = nf*2\n",
    "    \n",
    "    # Second convolutional layer\n",
    "    # Output shape: 7x7\n",
    "    x = Conv2D(nf, kernel_size=(4, 4), strides=(2, 2), padding=\"same\", use_bias=False)(x)\n",
    "    x = BatchNormalization()(x)\n",
    "    x = LeakyReLU(alpha=0.1)(x)\n",
    "\n",
    "    # Flatten the convolutional layers\n",
    "    x = Flatten()(x)\n",
    "\n",
    "    # FC layer\n",
    "    x = Dense(1024, use_bias=False)(x)\n",
    "    x = BatchNormalization()(x)\n",
    "    x = LeakyReLU(alpha=0.1)(x)\n",
    "    # Discriminator output. Sigmoid activation function to classify \"True\" or \"False\"\n",
    "    d_output = Dense(1, activation='sigmoid')(x)\n",
    "\n",
    "    # Auxiliary output. \n",
    "    q = Dense(128, use_bias=False)(x)\n",
    "    q = BatchNormalization()(q)\n",
    "    q = LeakyReLU(alpha=0.1)(q)\n",
    "\n",
    "    # Classification (discrete output)\n",
    "    q_cat = Dense(n_class, activation=\"softmax\")(q)\n",
    "\n",
    "    # Gaussian distribution mean (continuous output)\n",
    "    mu = Dense(n_conti)(q)\n",
    "\n",
    "    # Gaussian distribution standard deviation (exponential activation to ensure the value is positive)\n",
    "    sigma = Dense(n_conti, activation=lambda x: tf.math.exp(x))(q)\n",
    "\n",
    "    # Discriminator model (not compiled)\n",
    "    d_model = Model(inputs=image_input, outputs=d_output)\n",
    "\n",
    "    # Auxiliary model (not compiled)\n",
    "    q_model = Model(inputs=image_input, outputs=[q_cat, mu, sigma])\n",
    "    \n",
    "    return d_model, q_model"
   ]
  },
  {
   "cell_type": "code",
   "execution_count": 8,
   "id": "7ffd7b2e",
   "metadata": {},
   "outputs": [],
   "source": [
    "d_model, q_model = create_discriminator_continuous()"
   ]
  },
  {
   "cell_type": "code",
   "execution_count": 9,
   "id": "b76dd675",
   "metadata": {},
   "outputs": [
    {
     "name": "stdout",
     "output_type": "stream",
     "text": [
      "Model: \"model_1\"\n",
      "_________________________________________________________________\n",
      "Layer (type)                 Output Shape              Param #   \n",
      "=================================================================\n",
      "input_2 (InputLayer)         [(None, 28, 28, 1)]       0         \n",
      "_________________________________________________________________\n",
      "conv2d (Conv2D)              (None, 14, 14, 64)        1088      \n",
      "_________________________________________________________________\n",
      "batch_normalization_4 (Batch (None, 14, 14, 64)        256       \n",
      "_________________________________________________________________\n",
      "leaky_re_lu (LeakyReLU)      (None, 14, 14, 64)        0         \n",
      "_________________________________________________________________\n",
      "conv2d_1 (Conv2D)            (None, 7, 7, 128)         131072    \n",
      "_________________________________________________________________\n",
      "batch_normalization_5 (Batch (None, 7, 7, 128)         512       \n",
      "_________________________________________________________________\n",
      "leaky_re_lu_1 (LeakyReLU)    (None, 7, 7, 128)         0         \n",
      "_________________________________________________________________\n",
      "flatten (Flatten)            (None, 6272)              0         \n",
      "_________________________________________________________________\n",
      "dense_2 (Dense)              (None, 1024)              6422528   \n",
      "_________________________________________________________________\n",
      "batch_normalization_6 (Batch (None, 1024)              4096      \n",
      "_________________________________________________________________\n",
      "leaky_re_lu_2 (LeakyReLU)    (None, 1024)              0         \n",
      "_________________________________________________________________\n",
      "dense_3 (Dense)              (None, 1)                 1025      \n",
      "=================================================================\n",
      "Total params: 6,560,577\n",
      "Trainable params: 6,558,145\n",
      "Non-trainable params: 2,432\n",
      "_________________________________________________________________\n"
     ]
    }
   ],
   "source": [
    "d_model.summary()"
   ]
  },
  {
   "cell_type": "code",
   "execution_count": 10,
   "id": "2343f079",
   "metadata": {},
   "outputs": [
    {
     "name": "stdout",
     "output_type": "stream",
     "text": [
      "Model: \"model_2\"\n",
      "__________________________________________________________________________________________________\n",
      "Layer (type)                    Output Shape         Param #     Connected to                     \n",
      "==================================================================================================\n",
      "input_2 (InputLayer)            [(None, 28, 28, 1)]  0                                            \n",
      "__________________________________________________________________________________________________\n",
      "conv2d (Conv2D)                 (None, 14, 14, 64)   1088        input_2[0][0]                    \n",
      "__________________________________________________________________________________________________\n",
      "batch_normalization_4 (BatchNor (None, 14, 14, 64)   256         conv2d[0][0]                     \n",
      "__________________________________________________________________________________________________\n",
      "leaky_re_lu (LeakyReLU)         (None, 14, 14, 64)   0           batch_normalization_4[0][0]      \n",
      "__________________________________________________________________________________________________\n",
      "conv2d_1 (Conv2D)               (None, 7, 7, 128)    131072      leaky_re_lu[0][0]                \n",
      "__________________________________________________________________________________________________\n",
      "batch_normalization_5 (BatchNor (None, 7, 7, 128)    512         conv2d_1[0][0]                   \n",
      "__________________________________________________________________________________________________\n",
      "leaky_re_lu_1 (LeakyReLU)       (None, 7, 7, 128)    0           batch_normalization_5[0][0]      \n",
      "__________________________________________________________________________________________________\n",
      "flatten (Flatten)               (None, 6272)         0           leaky_re_lu_1[0][0]              \n",
      "__________________________________________________________________________________________________\n",
      "dense_2 (Dense)                 (None, 1024)         6422528     flatten[0][0]                    \n",
      "__________________________________________________________________________________________________\n",
      "batch_normalization_6 (BatchNor (None, 1024)         4096        dense_2[0][0]                    \n",
      "__________________________________________________________________________________________________\n",
      "leaky_re_lu_2 (LeakyReLU)       (None, 1024)         0           batch_normalization_6[0][0]      \n",
      "__________________________________________________________________________________________________\n",
      "dense_4 (Dense)                 (None, 128)          131072      leaky_re_lu_2[0][0]              \n",
      "__________________________________________________________________________________________________\n",
      "batch_normalization_7 (BatchNor (None, 128)          512         dense_4[0][0]                    \n",
      "__________________________________________________________________________________________________\n",
      "leaky_re_lu_3 (LeakyReLU)       (None, 128)          0           batch_normalization_7[0][0]      \n",
      "__________________________________________________________________________________________________\n",
      "dense_5 (Dense)                 (None, 10)           1290        leaky_re_lu_3[0][0]              \n",
      "__________________________________________________________________________________________________\n",
      "dense_6 (Dense)                 (None, 2)            258         leaky_re_lu_3[0][0]              \n",
      "__________________________________________________________________________________________________\n",
      "dense_7 (Dense)                 (None, 2)            258         leaky_re_lu_3[0][0]              \n",
      "==================================================================================================\n",
      "Total params: 6,692,942\n",
      "Trainable params: 6,690,254\n",
      "Non-trainable params: 2,688\n",
      "__________________________________________________________________________________________________\n"
     ]
    }
   ],
   "source": [
    "q_model.summary()"
   ]
  },
  {
   "cell_type": "code",
   "execution_count": 26,
   "id": "4195d354",
   "metadata": {},
   "outputs": [],
   "source": [
    "class InfoGAN_Continuous(tf.keras.Model):\n",
    "    def __init__(self, d_model, g_model, q_model, noise_size=noise_dim, num_classes=num_cat, n_conti=num_conti, seed=None):\n",
    "        super(InfoGAN_Continuous, self).__init__()\n",
    "        self.d_model = d_model\n",
    "        self.g_model = g_model\n",
    "        self.q_model = q_model\n",
    "        self.noise_size = noise_size\n",
    "        self.num_classes = num_classes\n",
    "        self.n_conti = n_conti\n",
    "        self.seed = seed\n",
    "\n",
    "    def compile(self, d_optimizer, g_optimizer, q_optimizer):\n",
    "        super(InfoGAN_Continuous, self).compile()\n",
    "        self.d_optimizer = d_optimizer\n",
    "        self.g_optimizer = g_optimizer\n",
    "        self.q_optimizer = q_optimizer\n",
    "\n",
    "    def create_gen_input(self, batch_size, seed):\n",
    "        \n",
    "        # create noise input\n",
    "        noise = tf.random.normal([batch_size, self.noise_size], seed=seed)\n",
    "        \n",
    "        # Create categorical latent code\n",
    "        cat_code = tf.random.uniform([batch_size], minval=0, maxval=self.num_classes, dtype=tf.int32, seed=seed)\n",
    "        cat_code = tf.one_hot(cat_code, depth=self.num_classes)\n",
    "        \n",
    "        # Create two continuous latent codes\n",
    "        conti_code = tf.random.uniform([batch_size, self.n_conti], minval=-1, maxval=1, seed=seed)\n",
    "        \n",
    "        return cat_code, conti_code, noise\n",
    "\n",
    "    def concat_inputs(self, input_tensor):\n",
    "        concat_input = Concatenate()(input_tensor)\n",
    "        return concat_input\n",
    "\n",
    "    def train_step(self, real_image_batch):\n",
    "        \n",
    "        # Define loss functions\n",
    "        binary_loss = BinaryCrossentropy()\n",
    "        categorical_loss = CategoricalCrossentropy()\n",
    "        \n",
    "        # Half-batch for training discriminator and batch for training generator and auxiliary model\n",
    "        batch_size = tf.shape(real_image_batch)[0]\n",
    "        \n",
    "        # Create generator input \n",
    "        g_cat, g_conti, g_noise = self.create_gen_input(batch_size=batch_size, seed=self.seed)\n",
    "        g_input = self.concat_inputs([g_cat, g_conti, g_noise])\n",
    "        \n",
    "        with tf.GradientTape() as d_tape: \n",
    "            self.d_model.trainable = True\n",
    "            d_tape.watch(self.d_model.trainable_variables)\n",
    "            \n",
    "            # Train discriminator using half batch real images. Real images have labels 1.\n",
    "            y_disc_real = tf.ones((batch_size, 1))\n",
    "            d_real_output = self.d_model(real_image_batch, training=True)\n",
    "            d_loss_real = binary_loss(y_disc_real, d_real_output)\n",
    "            \n",
    "            # Train discriminator using half batch fake images. Fake images have labels 0. \n",
    "            y_disc_fake = tf.zeros((batch_size, 1))\n",
    "            \n",
    "            # Create fake image batch\n",
    "            fake_image_batch = self.g_model(g_input, training=True)\n",
    "            d_fake_output = self.d_model(fake_image_batch, training=True)\n",
    "            d_loss_fake = binary_loss(y_disc_fake, d_fake_output)\n",
    "            \n",
    "            # Total Loss of Discriminator \n",
    "            d_loss = d_loss_real + d_loss_fake\n",
    "            \n",
    "        # Calculate gradients\n",
    "        d_gradients = d_tape.gradient(d_loss, self.d_model.trainable_variables)\n",
    "        \n",
    "        # Optimize\n",
    "        self.d_optimizer.apply_gradients(zip(d_gradients, self.d_model.trainable_variables))\n",
    "        \n",
    "        with tf.GradientTape() as g_tape, tf.GradientTape() as q_tape:\n",
    "            # Create generator input \n",
    "            g_cat, g_conti, g_noise = self.create_gen_input(batch_size=batch_size*2, seed=self.seed)\n",
    "            g_input = self.concat_inputs([g_cat, g_conti, g_noise])\n",
    "            \n",
    "            g_tape.watch(self.g_model.trainable_variables)\n",
    "            q_tape.watch(self.q_model.trainable_variables)\n",
    "            \n",
    "            # Create fake image batch\n",
    "            fake_image_batch = self.g_model(g_input, training=True)\n",
    "            d_fake_output = self.d_model(fake_image_batch, training=True)\n",
    "            \n",
    "            # Generator Image loss\n",
    "            y_gen_fake = tf.ones((batch_size*2, 1))\n",
    "            g_img_loss = binary_loss(y_gen_fake, d_fake_output)\n",
    "            \n",
    "            # Auxiliary output\n",
    "            cat_output, mu, sigma = self.q_model(fake_image_batch, training=True)\n",
    "            \n",
    "            # Categorical loss\n",
    "            cat_loss = categorical_loss(g_cat, cat_output)\n",
    "            \n",
    "            # Use Gaussian distributions to represent the output\n",
    "            dist = tfp.distributions.MultivariateNormalDiag(loc=mu, scale_diag=sigma)\n",
    "            \n",
    "            # Losses (negative log probability density function as we want to maximize the probability density function)\n",
    "            conti_loss = tf.reduce_mean(-dist.log_prob(g_conti))\n",
    "            \n",
    "            # Generator total loss\n",
    "            g_loss = g_img_loss + (cat_loss + 0.1*conti_loss)\n",
    "            \n",
    "            # Auxiliary function loss\n",
    "            q_loss = (cat_loss + 0.1*conti_loss)\n",
    "            \n",
    "        # Calculate gradients\n",
    "        # We do not want to modify the neurons in the discriminator when training the generator and the auxiliary model\n",
    "        self.d_model.trainable=False\n",
    "        g_gradients = g_tape.gradient(g_loss, self.g_model.trainable_variables)\n",
    "        q_gradients = q_tape.gradient(q_loss, self.q_model.trainable_variables)\n",
    "        \n",
    "        # Optimize\n",
    "        self.g_optimizer.apply_gradients(zip(g_gradients, self.g_model.trainable_variables))\n",
    "        self.q_optimizer.apply_gradients(zip(q_gradients, self.q_model.trainable_variables))\n",
    "\n",
    "        return {\"d_loss_real\": d_loss_real, \"d_loss_fake\": d_loss_fake, \"g_img_loss\": g_img_loss ,\n",
    "                \"cat_loss\": cat_loss, \"conti_loss\": conti_loss}"
   ]
  },
  {
   "cell_type": "code",
   "execution_count": 27,
   "id": "ddcf10b8",
   "metadata": {},
   "outputs": [],
   "source": [
    "def load_real_image(batch_size=32):\n",
    "    (X_train, y_train), (X_test, y_test) = tf.keras.datasets.mnist.load_data(path=\"mnist.npz\")\n",
    "    \n",
    "    # Add the color channel - change to 4D tensor, and convert the data type to 'float32'\n",
    "    train_images = X_train.reshape((X_train.shape[0], 28, 28, 1)).astype('float32')\n",
    "    \n",
    "    # Set the pixel values from -1 to 1\n",
    "    train_images = (train_images/255.0) * 2 - 1\n",
    "    \n",
    "    # Shuffle and separate in batch\n",
    "    buffer_size = train_images.shape[0]\n",
    "    train_images_dataset = tf.data.Dataset.from_tensor_slices(train_images).shuffle(buffer_size).batch(batch_size)\n",
    "    \n",
    "    return train_images_dataset\n",
    "\n"
   ]
  },
  {
   "cell_type": "code",
   "execution_count": null,
   "id": "9f62fddd",
   "metadata": {
    "scrolled": true
   },
   "outputs": [
    {
     "name": "stdout",
     "output_type": "stream",
     "text": [
      "Epoch 1/80\n",
      "1875/1875 [==============================] - 37s 15ms/step - d_loss_real: 0.4410 - d_loss_fake: 0.4275 - g_img_loss: 1.3382 - cat_loss: 0.2963 - conti_loss: 1.6997\n",
      "Epoch 2/80\n",
      "1875/1875 [==============================] - 29s 15ms/step - d_loss_real: 0.5789 - d_loss_fake: 0.5762 - g_img_loss: 0.9825 - cat_loss: 0.0470 - conti_loss: 0.6005\n",
      "Epoch 3/80\n",
      "1875/1875 [==============================] - 29s 15ms/step - d_loss_real: 0.6234 - d_loss_fake: 0.6224 - g_img_loss: 0.8896 - cat_loss: 0.0265 - conti_loss: 0.1118\n",
      "Epoch 4/80\n",
      "1875/1875 [==============================] - 29s 15ms/step - d_loss_real: 0.6391 - d_loss_fake: 0.6390 - g_img_loss: 0.8522 - cat_loss: 0.0193 - conti_loss: -0.2759\n",
      "Epoch 5/80\n",
      "1875/1875 [==============================] - 29s 16ms/step - d_loss_real: 0.6431 - d_loss_fake: 0.6413 - g_img_loss: 0.8399 - cat_loss: 0.0146 - conti_loss: -0.4843\n",
      "Epoch 6/80\n",
      "1875/1875 [==============================] - 29s 15ms/step - d_loss_real: 0.6441 - d_loss_fake: 0.6431 - g_img_loss: 0.8402 - cat_loss: 0.0122 - conti_loss: -0.6721\n",
      "Epoch 7/80\n",
      "1875/1875 [==============================] - 29s 15ms/step - d_loss_real: 0.6402 - d_loss_fake: 0.6389 - g_img_loss: 0.8454 - cat_loss: 0.0111 - conti_loss: -0.8297\n",
      "Epoch 8/80\n",
      "1875/1875 [==============================] - 29s 16ms/step - d_loss_real: 0.6354 - d_loss_fake: 0.6357 - g_img_loss: 0.8553 - cat_loss: 0.0115 - conti_loss: -0.9435\n",
      "Epoch 9/80\n",
      "1875/1875 [==============================] - 29s 16ms/step - d_loss_real: 0.6321 - d_loss_fake: 0.6303 - g_img_loss: 0.8670 - cat_loss: 0.0096 - conti_loss: -1.0092\n",
      "Epoch 10/80\n",
      "1875/1875 [==============================] - 29s 16ms/step - d_loss_real: 0.6254 - d_loss_fake: 0.6251 - g_img_loss: 0.8848 - cat_loss: 0.0098 - conti_loss: -1.0912\n",
      "Epoch 11/80\n",
      "1875/1875 [==============================] - 29s 15ms/step - d_loss_real: 0.6197 - d_loss_fake: 0.6194 - g_img_loss: 0.8986 - cat_loss: 0.0088 - conti_loss: -1.0933\n",
      "Epoch 12/80\n",
      "1875/1875 [==============================] - 29s 15ms/step - d_loss_real: 0.6144 - d_loss_fake: 0.6148 - g_img_loss: 0.9168 - cat_loss: 0.0083 - conti_loss: -1.1394\n",
      "Epoch 13/80\n",
      "1875/1875 [==============================] - 29s 16ms/step - d_loss_real: 0.6089 - d_loss_fake: 0.6087 - g_img_loss: 0.9284 - cat_loss: 0.0081 - conti_loss: -1.1616\n",
      "Epoch 14/80\n",
      "1875/1875 [==============================] - 29s 15ms/step - d_loss_real: 0.6016 - d_loss_fake: 0.6024 - g_img_loss: 0.9481 - cat_loss: 0.0092 - conti_loss: -1.1510\n",
      "Epoch 15/80\n",
      "1875/1875 [==============================] - 29s 15ms/step - d_loss_real: 0.5958 - d_loss_fake: 0.5963 - g_img_loss: 0.9676 - cat_loss: 0.0084 - conti_loss: -1.1707\n",
      "Epoch 16/80\n",
      "1875/1875 [==============================] - 29s 15ms/step - d_loss_real: 0.5887 - d_loss_fake: 0.5887 - g_img_loss: 0.9935 - cat_loss: 0.0084 - conti_loss: -1.1730\n",
      "Epoch 17/80\n",
      "1875/1875 [==============================] - 29s 15ms/step - d_loss_real: 0.5788 - d_loss_fake: 0.5802 - g_img_loss: 1.0138 - cat_loss: 0.0083 - conti_loss: -1.1966\n",
      "Epoch 18/80\n",
      "1875/1875 [==============================] - 29s 15ms/step - d_loss_real: 0.5734 - d_loss_fake: 0.5753 - g_img_loss: 1.0326 - cat_loss: 0.0075 - conti_loss: -1.2015\n",
      "Epoch 19/80\n",
      "1875/1875 [==============================] - 28s 15ms/step - d_loss_real: 0.5642 - d_loss_fake: 0.5668 - g_img_loss: 1.0612 - cat_loss: 0.0085 - conti_loss: -1.2074\n",
      "Epoch 20/80\n",
      "1875/1875 [==============================] - 29s 15ms/step - d_loss_real: 0.5541 - d_loss_fake: 0.5562 - g_img_loss: 1.0913 - cat_loss: 0.0084 - conti_loss: -1.1965\n",
      "Epoch 21/80\n",
      "1875/1875 [==============================] - 29s 15ms/step - d_loss_real: 0.5485 - d_loss_fake: 0.5517 - g_img_loss: 1.1129 - cat_loss: 0.0078 - conti_loss: -1.1946\n",
      "Epoch 22/80\n",
      "1875/1875 [==============================] - 29s 15ms/step - d_loss_real: 0.5396 - d_loss_fake: 0.5430 - g_img_loss: 1.1441 - cat_loss: 0.0074 - conti_loss: -1.1920\n",
      "Epoch 23/80\n",
      "1875/1875 [==============================] - 29s 15ms/step - d_loss_real: 0.5343 - d_loss_fake: 0.5378 - g_img_loss: 1.1625 - cat_loss: 0.0085 - conti_loss: -1.2018\n",
      "Epoch 24/80\n",
      "1875/1875 [==============================] - 29s 15ms/step - d_loss_real: 0.5285 - d_loss_fake: 0.5318 - g_img_loss: 1.1901 - cat_loss: 0.0077 - conti_loss: -1.2072\n",
      "Epoch 25/80\n",
      "1875/1875 [==============================] - 29s 15ms/step - d_loss_real: 0.5186 - d_loss_fake: 0.5223 - g_img_loss: 1.2271 - cat_loss: 0.0091 - conti_loss: -1.1849\n",
      "Epoch 26/80\n",
      "1875/1875 [==============================] - 29s 15ms/step - d_loss_real: 0.5131 - d_loss_fake: 0.5193 - g_img_loss: 1.2440 - cat_loss: 0.0078 - conti_loss: -1.1956\n",
      "Epoch 27/80\n",
      "1875/1875 [==============================] - 29s 15ms/step - d_loss_real: 0.5041 - d_loss_fake: 0.5088 - g_img_loss: 1.2857 - cat_loss: 0.0071 - conti_loss: -1.1812\n",
      "Epoch 28/80\n",
      "1875/1875 [==============================] - 29s 15ms/step - d_loss_real: 0.4959 - d_loss_fake: 0.5015 - g_img_loss: 1.3111 - cat_loss: 0.0082 - conti_loss: -1.1814\n",
      "Epoch 29/80\n",
      "1875/1875 [==============================] - 29s 15ms/step - d_loss_real: 0.4871 - d_loss_fake: 0.4941 - g_img_loss: 1.3489 - cat_loss: 0.0079 - conti_loss: -1.1821\n",
      "Epoch 30/80\n",
      "1875/1875 [==============================] - 29s 15ms/step - d_loss_real: 0.4826 - d_loss_fake: 0.4883 - g_img_loss: 1.3720 - cat_loss: 0.0079 - conti_loss: -1.1765\n",
      "Epoch 31/80\n",
      "1875/1875 [==============================] - 29s 15ms/step - d_loss_real: 0.4727 - d_loss_fake: 0.4799 - g_img_loss: 1.4157 - cat_loss: 0.0078 - conti_loss: -1.1597\n",
      "Epoch 32/80\n",
      "1875/1875 [==============================] - 30s 16ms/step - d_loss_real: 0.4700 - d_loss_fake: 0.4778 - g_img_loss: 1.4447 - cat_loss: 0.0088 - conti_loss: -1.1673\n",
      "Epoch 33/80\n",
      "1875/1875 [==============================] - 29s 16ms/step - d_loss_real: 0.4582 - d_loss_fake: 0.4655 - g_img_loss: 1.4619 - cat_loss: 0.0081 - conti_loss: -1.1758\n",
      "Epoch 34/80\n",
      "1875/1875 [==============================] - 29s 15ms/step - d_loss_real: 0.4517 - d_loss_fake: 0.4606 - g_img_loss: 1.5165 - cat_loss: 0.0081 - conti_loss: -1.1495\n",
      "Epoch 35/80\n",
      "1875/1875 [==============================] - 29s 15ms/step - d_loss_real: 0.4466 - d_loss_fake: 0.4566 - g_img_loss: 1.5447 - cat_loss: 0.0077 - conti_loss: -1.1323\n",
      "Epoch 36/80\n",
      "1875/1875 [==============================] - 29s 15ms/step - d_loss_real: 0.4396 - d_loss_fake: 0.4487 - g_img_loss: 1.5694 - cat_loss: 0.0090 - conti_loss: -1.1447\n",
      "Epoch 37/80\n",
      "1875/1875 [==============================] - 29s 15ms/step - d_loss_real: 0.4317 - d_loss_fake: 0.4406 - g_img_loss: 1.6092 - cat_loss: 0.0094 - conti_loss: -1.1341\n",
      "Epoch 38/80\n",
      "1875/1875 [==============================] - 29s 15ms/step - d_loss_real: 0.4261 - d_loss_fake: 0.4358 - g_img_loss: 1.6302 - cat_loss: 0.0081 - conti_loss: -1.1636\n",
      "Epoch 39/80\n",
      "1875/1875 [==============================] - 30s 16ms/step - d_loss_real: 0.4216 - d_loss_fake: 0.4313 - g_img_loss: 1.6806 - cat_loss: 0.0085 - conti_loss: -1.1378\n",
      "Epoch 40/80\n",
      "1875/1875 [==============================] - 29s 16ms/step - d_loss_real: 0.4133 - d_loss_fake: 0.4233 - g_img_loss: 1.7148 - cat_loss: 0.0099 - conti_loss: -1.1108\n",
      "Epoch 41/80\n",
      "1875/1875 [==============================] - 29s 15ms/step - d_loss_real: 0.4073 - d_loss_fake: 0.4184 - g_img_loss: 1.7488 - cat_loss: 0.0095 - conti_loss: -1.1146\n",
      "Epoch 42/80\n",
      "1875/1875 [==============================] - 29s 15ms/step - d_loss_real: 0.4037 - d_loss_fake: 0.4162 - g_img_loss: 1.7728 - cat_loss: 0.0084 - conti_loss: -1.1087\n",
      "Epoch 43/80\n",
      "1875/1875 [==============================] - 29s 15ms/step - d_loss_real: 0.3972 - d_loss_fake: 0.4065 - g_img_loss: 1.8114 - cat_loss: 0.0095 - conti_loss: -1.1188\n",
      "Epoch 44/80\n",
      "1875/1875 [==============================] - 29s 15ms/step - d_loss_real: 0.3867 - d_loss_fake: 0.3981 - g_img_loss: 1.8547 - cat_loss: 0.0089 - conti_loss: -1.1042\n",
      "Epoch 45/80\n",
      "1875/1875 [==============================] - 29s 15ms/step - d_loss_real: 0.3838 - d_loss_fake: 0.3947 - g_img_loss: 1.8872 - cat_loss: 0.0086 - conti_loss: -1.1105\n",
      "Epoch 46/80\n",
      "1593/1875 [========================>.....] - ETA: 4s - d_loss_real: 0.3800 - d_loss_fake: 0.3906 - g_img_loss: 1.9168 - cat_loss: 0.0090 - conti_loss: -1.1089"
     ]
    }
   ],
   "source": [
    "infogan = InfoGAN_Continuous(d_model, g_model, q_model)\n",
    "infogan.compile(d_optimizer=Adam(learning_rate=2e-4),\n",
    "                g_optimizer=Adam(learning_rate=5e-4),\n",
    "                q_optimizer=Adam(learning_rate=2e-4))\n",
    "real_images = load_real_image(batch_size=32)\n",
    "infogan.fit(real_images, epochs=80)"
   ]
  },
  {
   "cell_type": "code",
   "execution_count": 211,
   "id": "9be4550b",
   "metadata": {},
   "outputs": [
    {
     "name": "stdout",
     "output_type": "stream",
     "text": [
      "INFO:tensorflow:Assets written to: saved_model/generator/assets\n",
      "INFO:tensorflow:Assets written to: saved_model/discriminator/assets\n",
      "INFO:tensorflow:Assets written to: saved_model/q_network/assets\n"
     ]
    }
   ],
   "source": [
    "# g_model.save('saved_model/generator')\n",
    "# d_model.save('saved_model/discriminator')\n",
    "# q_model.save('saved_model/q_network')"
   ]
  },
  {
   "cell_type": "code",
   "execution_count": 5,
   "id": "49bf1bc9",
   "metadata": {},
   "outputs": [
    {
     "name": "stderr",
     "output_type": "stream",
     "text": [
      "2022-07-04 21:06:21.509448: I tensorflow/compiler/jit/xla_cpu_device.cc:41] Not creating XLA devices, tf_xla_enable_xla_devices not set\n",
      "2022-07-04 21:06:21.509652: I tensorflow/core/platform/cpu_feature_guard.cc:142] This TensorFlow binary is optimized with oneAPI Deep Neural Network Library (oneDNN) to use the following CPU instructions in performance-critical operations:  AVX2 FMA\n",
      "To enable them in other operations, rebuild TensorFlow with the appropriate compiler flags.\n"
     ]
    },
    {
     "name": "stdout",
     "output_type": "stream",
     "text": [
      "WARNING:tensorflow:No training configuration found in save file, so the model was *not* compiled. Compile it manually.\n",
      "WARNING:tensorflow:No training configuration found in save file, so the model was *not* compiled. Compile it manually.\n",
      "WARNING:tensorflow:No training configuration found in save file, so the model was *not* compiled. Compile it manually.\n"
     ]
    }
   ],
   "source": [
    "g_model = tf.keras.models.load_model('saved_model/generator')\n",
    "d_model = tf.keras.models.load_model('saved_model/discriminator')\n",
    "q_model = tf.keras.models.load_model('saved_model/q_network')"
   ]
  },
  {
   "cell_type": "markdown",
   "id": "6a9291ab",
   "metadata": {},
   "source": [
    "## Test"
   ]
  },
  {
   "cell_type": "code",
   "execution_count": 6,
   "id": "146a89d2",
   "metadata": {},
   "outputs": [],
   "source": [
    "import numpy as np\n",
    "import matplotlib.pyplot as plt"
   ]
  },
  {
   "cell_type": "code",
   "execution_count": 33,
   "id": "078419a7",
   "metadata": {},
   "outputs": [],
   "source": [
    "noise = tf.random.normal([1, 62], seed=831)\n",
    "noise = Concatenate(axis=0)([noise]*10)"
   ]
  },
  {
   "cell_type": "code",
   "execution_count": 34,
   "id": "8fe6ac9b",
   "metadata": {},
   "outputs": [
    {
     "data": {
      "text/plain": [
       "<tf.Tensor: shape=(10, 10), dtype=float32, numpy=\n",
       "array([[1., 0., 0., 0., 0., 0., 0., 0., 0., 0.],\n",
       "       [0., 1., 0., 0., 0., 0., 0., 0., 0., 0.],\n",
       "       [0., 0., 1., 0., 0., 0., 0., 0., 0., 0.],\n",
       "       [0., 0., 0., 1., 0., 0., 0., 0., 0., 0.],\n",
       "       [0., 0., 0., 0., 1., 0., 0., 0., 0., 0.],\n",
       "       [0., 0., 0., 0., 0., 1., 0., 0., 0., 0.],\n",
       "       [0., 0., 0., 0., 0., 0., 1., 0., 0., 0.],\n",
       "       [0., 0., 0., 0., 0., 0., 0., 1., 0., 0.],\n",
       "       [0., 0., 0., 0., 0., 0., 0., 0., 1., 0.],\n",
       "       [0., 0., 0., 0., 0., 0., 0., 0., 0., 1.]], dtype=float32)>"
      ]
     },
     "execution_count": 34,
     "metadata": {},
     "output_type": "execute_result"
    }
   ],
   "source": [
    "cat_code=[0,1,2,3,4,5,6,7,8,9]\n",
    "cat_code = tf.one_hot(cat_code, depth=10)\n",
    "cat_code"
   ]
  },
  {
   "cell_type": "code",
   "execution_count": 35,
   "id": "d3fc228e",
   "metadata": {},
   "outputs": [],
   "source": [
    "# conti_code = np.array([[0.1, 0.1]])\n",
    "# conti_code = Concatenate(axis=0)([conti_code]*10)\n",
    "\n",
    "conti_code = tf.random.uniform([1, 2], minval=-1, maxval=1, seed=2)\n",
    "conti_code = Concatenate(axis=0)([conti_code]*10)"
   ]
  },
  {
   "cell_type": "code",
   "execution_count": 36,
   "id": "13d5917f",
   "metadata": {},
   "outputs": [],
   "source": [
    "g_input = Concatenate()([cat_code, conti_code, noise])\n",
    "\n",
    "x = g_model(g_input)"
   ]
  },
  {
   "cell_type": "code",
   "execution_count": 37,
   "id": "05e629c0",
   "metadata": {},
   "outputs": [
    {
     "data": {
      "image/png": "[encoded data removed]",
      "text/plain": [
       "<Figure size 1080x576 with 10 Axes>"
      ]
     },
     "metadata": {},
     "output_type": "display_data"
    }
   ],
   "source": [
    "plt.rcParams['figure.figsize'] = (15.0, 8.0)\n",
    "\n",
    "rows = 2\n",
    "columns = 5\n",
    "\n",
    "for i in range(10) : \n",
    "    image_index = i      # image index \n",
    "    title = \"Label {}\".format(image_index) # image title\n",
    "    plt.subplot(rows, columns, image_index+1) # subplot \n",
    "    plt.title(title)   # title \n",
    "    # // plt.axis('off')\n",
    "    plt.xticks([])  # x = None \n",
    "    plt.yticks([])  # y = None\n",
    "    plt.imshow(x[i], cmap=plt.get_cmap('gray'))  \n",
    "plt.show()\n"
   ]
  },
  {
   "cell_type": "markdown",
   "id": "cbe379eb",
   "metadata": {},
   "source": [
    "- label 0 : 3\n",
    "- label 1 : 2\n",
    "- label 2 : 9\n",
    "- label 3 : 8\n",
    "- label 4 : 7\n",
    "- label 5 : 4\n",
    "- label 6 : 5\n",
    "- label 7 : 1\n",
    "- label 8 : 0\n",
    "- label 9 : 6"
   ]
  },
  {
   "cell_type": "code",
   "execution_count": 41,
   "id": "cb523adb",
   "metadata": {},
   "outputs": [
    {
     "data": {
      "image/png": "[encoded data removed]",
      "text/plain": [
       "<Figure size 1080x576 with 10 Axes>"
      ]
     },
     "metadata": {},
     "output_type": "display_data"
    }
   ],
   "source": [
    "cat_code=[6]*10\n",
    "cat_code = tf.one_hot(cat_code, depth=10)\n",
    "\n",
    "conti_code = np.array([[-0.9, 0.1],\n",
    "                      [-0.7, 0.1],\n",
    "                      [-0.5, 0.1],\n",
    "                      [-0.3, 0.1],\n",
    "                      [-0.1, 0.1],\n",
    "                      [0.1, 0.1],\n",
    "                      [0.3, 0.1],\n",
    "                      [0.5, 0.1],\n",
    "                      [0.7, 0.1],\n",
    "                      [0.9, 0.1]])\n",
    "\n",
    "g_input = Concatenate()([cat_code, conti_code, noise])\n",
    "\n",
    "x = g_model(g_input)\n",
    "\n",
    "plt.rcParams['figure.figsize'] = (15.0, 8.0)\n",
    "\n",
    "rows = 2\n",
    "columns = 5\n",
    "\n",
    "for i in range(10) : \n",
    "    image_index = i      # image index \n",
    "#     title = \"Label {}\".format(image_index) # image title\n",
    "    plt.subplot(rows, columns, image_index+1) # subplot \n",
    "#     plt.title(title)   # title \n",
    "    # // plt.axis('off')\n",
    "    plt.xticks([])  # x = None \n",
    "    plt.yticks([])  # y = None\n",
    "    plt.imshow(x[i], cmap=plt.get_cmap('gray'))  \n",
    "plt.show()\n",
    "\n",
    "\n"
   ]
  },
  {
   "cell_type": "code",
   "execution_count": 42,
   "id": "91e672c1",
   "metadata": {},
   "outputs": [
    {
     "data": {
      "image/png": "[encoded data removed]",
      "text/plain": [
       "<Figure size 1080x576 with 10 Axes>"
      ]
     },
     "metadata": {},
     "output_type": "display_data"
    }
   ],
   "source": [
    "cat_code=[3]*10\n",
    "cat_code = tf.one_hot(cat_code, depth=10)\n",
    "\n",
    "conti_code = np.array([[0.1, -0.9],\n",
    "                      [0.1, -0.7],\n",
    "                      [0.1, -0.5],\n",
    "                      [0.1, -0.3],\n",
    "                      [0.1, -0.1],\n",
    "                      [0.1, 0.1],\n",
    "                      [0.1, 0.3],\n",
    "                      [0.1, 0.5],\n",
    "                      [0.1, 0.7],\n",
    "                      [0.1, 0.9]])\n",
    "\n",
    "g_input = Concatenate()([cat_code, conti_code, noise])\n",
    "\n",
    "x = g_model(g_input)\n",
    "\n",
    "plt.rcParams['figure.figsize'] = (15.0, 8.0)\n",
    "\n",
    "rows = 2\n",
    "columns = 5\n",
    "\n",
    "for i in range(10) : \n",
    "    image_index = i      # image index \n",
    "#     title = \"Label {}\".format(image_index) # image title\n",
    "    plt.subplot(rows, columns, image_index+1) # subplot \n",
    "#     plt.title(title)   # title \n",
    "    # // plt.axis('off')\n",
    "    plt.xticks([])  # x = None \n",
    "    plt.yticks([])  # y = None\n",
    "    plt.imshow(x[i], cmap=plt.get_cmap('gray'))  \n",
    "plt.show()\n"
   ]
  },
  {
   "cell_type": "code",
   "execution_count": null,
   "id": "ae41b027",
   "metadata": {},
   "outputs": [],
   "source": []
  },
  {
   "cell_type": "code",
   "execution_count": null,
   "id": "5bc4e322",
   "metadata": {},
   "outputs": [],
   "source": []
  }
 ],
 "metadata": {
  "kernelspec": {
   "display_name": "infogan\n",
   "language": "python",
   "name": "infogan"
  },
  "language_info": {
   "codemirror_mode": {
    "name": "ipython",
    "version": 3
   },
   "file_extension": ".py",
   "mimetype": "text/x-python",
   "name": "python",
   "nbconvert_exporter": "python",
   "pygments_lexer": "ipython3",
   "version": "3.8.11"
  }
 },
 "nbformat": 4,
 "nbformat_minor": 5
}
